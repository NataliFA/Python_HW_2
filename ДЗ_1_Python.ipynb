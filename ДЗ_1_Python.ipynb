{
  "nbformat": 4,
  "nbformat_minor": 0,
  "metadata": {
    "colab": {
      "provenance": [],
      "authorship_tag": "ABX9TyPnywRuemXjgsR4d8MFN7DN",
      "include_colab_link": true
    },
    "kernelspec": {
      "name": "python3",
      "display_name": "Python 3"
    },
    "language_info": {
      "name": "python"
    }
  },
  "cells": [
    {
      "cell_type": "markdown",
      "metadata": {
        "id": "view-in-github",
        "colab_type": "text"
      },
      "source": [
        "<a href=\"https://colab.research.google.com/github/NataliFA/Python_HW_2/blob/main/%D0%94%D0%97_1_Python.ipynb\" target=\"_parent\"><img src=\"https://colab.research.google.com/assets/colab-badge.svg\" alt=\"Open In Colab\"/></a>"
      ]
    },
    {
      "cell_type": "markdown",
      "source": [
        "## Задача 1:\n",
        "На складе лежат разные фрукты в разном количестве.\n",
        "Нужно написать функцию, которая на вход принимает любое количество названий фруктов и их количество, а возвращает общее количество фруктов на складе\n"
      ],
      "metadata": {
        "id": "Y_RJiPQKUeos"
      }
    },
    {
      "cell_type": "code",
      "source": [
        "def fruit_and_amount(**kwargs):\n",
        "    all_fruit = 0\n",
        "    for amount in kwargs.values():\n",
        "      all_fruit += amount\n",
        "    return all_fruit\n",
        "\n",
        "print(f\"Количество фруктов на складе - {fruit_and_amount(apple=10, banana=5, pineapple=2)}\")"
      ],
      "metadata": {
        "id": "OobnLtBLOB7Z",
        "colab": {
          "base_uri": "https://localhost:8080/"
        },
        "outputId": "297008fd-2423-4330-c4c1-3a7b48e245b6"
      },
      "execution_count": 8,
      "outputs": [
        {
          "output_type": "stream",
          "name": "stdout",
          "text": [
            "Количество фруктов на складе - 17\n"
          ]
        }
      ]
    },
    {
      "cell_type": "markdown",
      "source": [
        "## Задача 2:\n",
        "Дан список с затратами на рекламу. Но в данных есть ошибки, некоторые затраты имеют отрицательную величину. Удалите такие значения из списка и посчитайте суммарные затраты  \n",
        "[100, 125, -90, 345, 655, -1, 0, 200]  \n",
        "Используйте list comprehensions  \n",
        "\n",
        "\n"
      ],
      "metadata": {
        "id": "UKrzkfNcVNrW"
      }
    },
    {
      "cell_type": "code",
      "source": [
        "costs = [100, 125, -90, 345, 655, -1, 0, 200]\n",
        "\n",
        "total_costs = [costs.remove(i) for i in costs if i < 0]\n",
        "\n",
        "print(\"Суммарные затраты -\", sum(costs))"
      ],
      "metadata": {
        "colab": {
          "base_uri": "https://localhost:8080/"
        },
        "id": "PpTK3dJIVWym",
        "outputId": "1c5aff2c-70f4-4414-a495-ea8c1c81f6a1"
      },
      "execution_count": 10,
      "outputs": [
        {
          "output_type": "stream",
          "name": "stdout",
          "text": [
            "Суммарные затраты - 1425\n"
          ]
        }
      ]
    },
    {
      "cell_type": "markdown",
      "source": [
        "## Задача 3:\n",
        "Даны два списка.  \n",
        "Дата покупки  \n",
        "['2021-09-14', '2021-12-15', '2021-09-08', '2021-12-05', '2021-10-09', '2021-09-30', '2021-12-22', '2021-11-29', '2021-12-24', '2021-11-26', '2021-10-27', '2021-12-18', '2021-11-09', '2021-11-23', '2021-09-27', '2021-10-02', '2021-12-27', '2021-09-20', '2021-12-13', '2021-11-01', '2021-11-09', '2021-12-06', '2021-12-08', '2021-10-09', '2021-10-31', '2021-09-30', '2021-11-09', '2021-12-13', '2021-10-26', '2021-12-09']  \n",
        "Суммы покупок по датам  \n",
        "[1270, 8413, 9028, 3703, 5739, 4095, 295, 4944, 5723, 3701, 4471, 651, 7037, 4274, 6275, 4988, 6930, 2971, 6592, 2004, 2822, 519, 3406, 2732, 5015, 2008, 316, 6333, 5700, 2887]\n",
        "\n"
      ],
      "metadata": {
        "id": "pQbTYXrJVXPk"
      }
    },
    {
      "cell_type": "code",
      "source": [
        "date_of_purchase = ['2021-09-14', '2021-12-15', '2021-09-08', '2021-12-05', '2021-10-09', '2021-09-30', '2021-12-22', '2021-11-29', '2021-12-24', '2021-11-26', '2021-10-27', '2021-12-18', '2021-11-09', '2021-11-23', '2021-09-27', '2021-10-02', '2021-12-27', '2021-09-20', '2021-12-13', '2021-11-01', '2021-11-09', '2021-12-06', '2021-12-08', '2021-10-09', '2021-10-31', '2021-09-30', '2021-11-09', '2021-12-13', '2021-10-26', '2021-12-09']\n",
        "sum_of_purchase = [1270, 8413, 9028, 3703, 5739, 4095, 295, 4944, 5723, 3701, 4471, 651, 7037, 4274, 6275, 4988, 6930, 2971, 6592, 2004, 2822, 519, 3406, 2732, 5015, 2008, 316, 6333, 5700, 2887]"
      ],
      "metadata": {
        "id": "5YE17HE1VfUi"
      },
      "execution_count": 11,
      "outputs": []
    },
    {
      "cell_type": "markdown",
      "source": [
        "### Задача 3.1 \n",
        "Найдите, какая выручка у компании в ноябре. Используйте list comprehensions"
      ],
      "metadata": {
        "id": "RKvr8XFfWPAj"
      }
    },
    {
      "cell_type": "code",
      "source": [
        "from functools import reduce\n",
        "date_and_sum = list(zip(date_of_purchase,sum_of_purchase))\n",
        "sum_in_november = [(date, amount) for date,amount in date_and_sum if date[6] == '1']\n",
        "l = len(sum_in_november)\n",
        "proceeds = reduce(lambda x,y: x + y, (sum_in_november[i][1] for i in range(l)))\n",
        "\n",
        "print(f\"Выручка компании в ноябре составила - {proceeds}\")"
      ],
      "metadata": {
        "colab": {
          "base_uri": "https://localhost:8080/"
        },
        "id": "u2EzmtkrWLza",
        "outputId": "eadf2358-5055-4fcb-8828-9f44f7317123"
      },
      "execution_count": 12,
      "outputs": [
        {
          "output_type": "stream",
          "name": "stdout",
          "text": [
            "Выручка компании в ноябре составила - 25098\n"
          ]
        }
      ]
    },
    {
      "cell_type": "markdown",
      "source": [
        "### Задача 3.2 \n",
        "Найдите выручку компании в зависимости от месяца. Для этого напишите функцию, которая на вход принимает список с датами и список с выручкой, а на выходе словарь, где ключи - это месяцы, а значения - это выручка. Используйте аннотирование типов."
      ],
      "metadata": {
        "id": "isyG7bs7Vfyk"
      }
    },
    {
      "cell_type": "code",
      "source": [
        "def proceeds_in_month(date_lst: list, sum_of_date: list) -> dict:\n",
        "  l = len(date_lst)\n",
        "  month = [\"September\", \"October\", \"November\", \"December\"]\n",
        "  \n",
        "  spt = [sum_of_date[i] for i in range(l) if date_lst[i][5] == '0' and date_lst[i][6] == '9']\n",
        "  spt_sum = sum(spt)\n",
        "  oct = [sum_of_date[i] for i in range(l) if date_lst[i][6] == '0']\n",
        "  oct_sum = sum(oct)\n",
        "  nov = [sum_of_date[i] for i in range(l) if date_lst[i][6] == '1']\n",
        "  nov_sum = sum(nov)\n",
        "  dec = [sum_of_date[i] for i in range(l) if date_lst[i][6] == '2']\n",
        "  dec_sum = sum(dec)\n",
        "\n",
        "  total = [spt_sum, oct_sum, nov_sum, dec_sum]\n",
        "\n",
        "  return {month[i]: total[i] for i in range(len(month))}\n",
        "  \n",
        "proceeds_in_month(date_of_purchase, sum_of_purchase)"
      ],
      "metadata": {
        "id": "qSe_YB9uVokr",
        "colab": {
          "base_uri": "https://localhost:8080/"
        },
        "outputId": "974fc27d-0696-40d1-c4ae-37fe8924bfb7"
      },
      "execution_count": 13,
      "outputs": [
        {
          "output_type": "execute_result",
          "data": {
            "text/plain": [
              "{'September': 25647, 'October': 28645, 'November': 25098, 'December': 45452}"
            ]
          },
          "metadata": {},
          "execution_count": 13
        }
      ]
    }
  ]
}